{
 "cells": [
  {
   "cell_type": "code",
   "execution_count": null,
   "metadata": {},
   "outputs": [],
   "source": [
    "import requests\n",
    "\n",
    "def get_weather(city: str):\n",
    "    api_key = '118b63f0faa9cb1504b34a6b6810b30b'  # Replace with your OpenWeatherMap API key\n",
    "    url = f'http://api.openweathermap.org/data/2.5/weather?q={city}&appid={api_key}&units=metric'\n",
    "    response = requests.get(url)\n",
    "    data = response.json()\n",
    "\n",
    "    if response.status_code == 200:\n",
    "        temperature = data['main']['temp']\n",
    "        description = data['weather'][0]['description']\n",
    "        return f'The temperature in {city} is {temperature}°C with {description}.'\n",
    "    else:\n",
    "        return f'Failed to get data for {city}. Error: {data.get(\"message\", \"Unknown error\")}'\n",
    "\n",
    "\n",
    "# File: ~/airflow/dags/weather_dag.py\n",
    "from airflow import DAG\n",
    "from airflow.operators.python import PythonOperator  # Updated import for PythonOperator\n",
    "from datetime import datetime\n",
    "\n",
    "\n",
    "# Define default arguments for the DAG\n",
    "default_args = {\n",
    "    'owner': 'airflow',\n",
    "    'start_date': datetime(2023, 1, 1),\n",
    "    'retries': 1,\n",
    "}\n",
    "\n",
    "# Define the DAG\n",
    "dag = DAG(\n",
    "    'weather_dag',\n",
    "    default_args=default_args,\n",
    "    description='A simple weather-fetching DAG',\n",
    "    schedule_interval='@daily',  # Change to your desired schedule\n",
    "    catchup=False,\n",
    ")\n",
    "\n",
    "# Define the PythonOperator that runs your get_weather function\n",
    "weather_task = PythonOperator(\n",
    "    task_id='get_weather_task',\n",
    "    python_callable=get_weather,\n",
    "    op_args=['London'],  # Pass the city name here\n",
    "    dag=dag,\n",
    ")\n",
    "\n",
    "weather_task\n"
   ]
  }
 ],
 "metadata": {
  "language_info": {
   "name": "python"
  }
 },
 "nbformat": 4,
 "nbformat_minor": 2
}
